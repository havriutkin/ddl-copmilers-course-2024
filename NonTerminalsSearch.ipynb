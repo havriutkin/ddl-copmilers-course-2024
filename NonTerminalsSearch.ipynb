{
  "nbformat": 4,
  "nbformat_minor": 0,
  "metadata": {
    "colab": {
      "provenance": [],
      "authorship_tag": "ABX9TyOZcXW8AGfyMdVqbfv2FvvY",
      "include_colab_link": true
    },
    "kernelspec": {
      "name": "python3",
      "display_name": "Python 3"
    },
    "language_info": {
      "name": "python"
    }
  },
  "cells": [
    {
      "cell_type": "markdown",
      "metadata": {
        "id": "view-in-github",
        "colab_type": "text"
      },
      "source": [
        "<a href=\"https://colab.research.google.com/github/havriutkin/ddl-copmilers-course-2024/blob/main/NonTerminalsSearch.ipynb\" target=\"_parent\"><img src=\"https://colab.research.google.com/assets/colab-badge.svg\" alt=\"Open In Colab\"/></a>"
      ]
    },
    {
      "cell_type": "code",
      "source": [
        "def find_nonproductive_nonterminals(grammar, terminals):\n",
        "    productive = set()\n",
        "    changes = True\n",
        "\n",
        "    while changes:\n",
        "        changes = False\n",
        "        for nonterminal, productions in grammar.items():\n",
        "            for production in productions:\n",
        "                if all(symbol in productive or symbol in terminals for symbol in production):\n",
        "                    if nonterminal not in productive:\n",
        "                        productive.add(nonterminal)\n",
        "                        changes = True\n",
        "\n",
        "    nonproductive = set(grammar.keys()) - productive\n",
        "    return nonproductive\n"
      ],
      "metadata": {
        "id": "C4ZEC2MbP6Yj"
      },
      "execution_count": 1,
      "outputs": []
    },
    {
      "cell_type": "code",
      "source": [
        "def find_unreachable_nonterminals(grammar, start_symbol, non_terminals):\n",
        "    reachable = set()\n",
        "    to_process = {start_symbol}\n",
        "\n",
        "    while to_process:\n",
        "        current = to_process.pop()\n",
        "        if current not in reachable:\n",
        "            reachable.add(current)\n",
        "            for production in grammar.get(current, []):\n",
        "                for symbol in production:\n",
        "                    if symbol in non_terminals and symbol not in reachable:\n",
        "                        to_process.add(symbol)\n",
        "\n",
        "    unreachable = set(grammar.keys()) - reachable\n",
        "    return unreachable"
      ],
      "metadata": {
        "id": "y3y6GuawP4iS"
      },
      "execution_count": 2,
      "outputs": []
    },
    {
      "cell_type": "code",
      "source": [
        "def find_vanishing_nonterminals(grammar):\n",
        "    vanishing = set()\n",
        "    changes = True\n",
        "\n",
        "    while changes:\n",
        "        changes = False\n",
        "        for nonterminal, productions in grammar.items():\n",
        "            for production in productions:\n",
        "                if all(symbol in vanishing or symbol == \"\" for symbol in production):\n",
        "                    if nonterminal not in vanishing:\n",
        "                        vanishing.add(nonterminal)\n",
        "                        changes = True\n",
        "\n",
        "    return vanishing\n"
      ],
      "metadata": {
        "id": "LPYEtOdGP0sw"
      },
      "execution_count": 3,
      "outputs": []
    },
    {
      "cell_type": "code",
      "source": [
        "# Usage example\n",
        "terminals = {\"a\", \"b\", \"c\", \"d\", \"e\", \"h\", \"i\"}\n",
        "non_terminals = {\"S\", \"A\", \"B\", \"C\", \"D\", \"E\", \"F\", \"G\", \"H\", \"I\", \"J\"}\n",
        "\n",
        "grammar = {\n",
        "    \"S\": [[\"A\", \"B\"], [\"C\"]],\n",
        "    \"A\": [[\"a\", \"A\"], [\"b\"]],\n",
        "    \"B\": [[\"b\", \"B\"], []],\n",
        "    \"C\": [[\"c\"]],\n",
        "    \"D\": [[\"d\", \"E\"]],\n",
        "    \"E\": [[\"e\"]],\n",
        "    \"F\": [[\"G\"]],\n",
        "    \"G\": [[\"H\"]],\n",
        "    \"H\": [[\"h\", \"I\"]],\n",
        "    \"I\": [[\"i\", \"J\"]],\n",
        "}\n",
        "\n",
        "start_symbol = \"S\"\n",
        "\n",
        "print(\"Nonproductive nonterminals:\", find_nonproductive_nonterminals(grammar, terminals))\n",
        "print(\"Unreachable nonterminals\", find_unreachable_nonterminals(grammar, start_symbol, non_terminals))\n",
        "print(\"Vanishing nonterminals\", find_vanishing_nonterminals(grammar))"
      ],
      "metadata": {
        "colab": {
          "base_uri": "https://localhost:8080/"
        },
        "id": "7a_OI2XGP8CH",
        "outputId": "336f94f5-ecdd-47db-b992-f69347875126"
      },
      "execution_count": 4,
      "outputs": [
        {
          "output_type": "stream",
          "name": "stdout",
          "text": [
            "Nonproductive nonterminals: {'H', 'I', 'G', 'F'}\n",
            "Unreachable nonterminals {'D', 'G', 'H', 'I', 'E', 'F'}\n",
            "Vanishing nonterminals {'B'}\n"
          ]
        }
      ]
    }
  ]
}