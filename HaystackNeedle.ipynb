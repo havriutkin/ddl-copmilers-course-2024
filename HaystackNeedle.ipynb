{
  "nbformat": 4,
  "nbformat_minor": 0,
  "metadata": {
    "colab": {
      "provenance": [],
      "include_colab_link": true
    },
    "kernelspec": {
      "name": "python3",
      "display_name": "Python 3"
    },
    "language_info": {
      "name": "python"
    }
  },
  "cells": [
    {
      "cell_type": "markdown",
      "metadata": {
        "id": "view-in-github",
        "colab_type": "text"
      },
      "source": [
        "<a href=\"https://colab.research.google.com/github/havriutkin/ddl-copmilers-course-2024/blob/main/HaystackNeedle.ipynb\" target=\"_parent\"><img src=\"https://colab.research.google.com/assets/colab-badge.svg\" alt=\"Open In Colab\"/></a>"
      ]
    },
    {
      "cell_type": "markdown",
      "source": [
        "# Naive algorithm\n",
        "\n",
        "This algorithm iterates through the text and checks for the pattern by comparing characters one by one. The worst-case time complexity of this approach is O(n * m), where `n` is the length of the text and `m` is the length of the pattern.\n"
      ],
      "metadata": {
        "id": "1-FHozysCXga"
      }
    },
    {
      "cell_type": "code",
      "execution_count": null,
      "metadata": {
        "colab": {
          "base_uri": "https://localhost:8080/"
        },
        "id": "o2UxVvet8iez",
        "outputId": "f5dda249-db40-4730-bfb9-58d479e48495"
      },
      "outputs": [
        {
          "output_type": "stream",
          "name": "stdout",
          "text": [
            "Pattern found at index 21\n"
          ]
        }
      ],
      "source": [
        "def naive_substring_search(text, pattern):\n",
        "    # Get the lengths of the text and the pattern\n",
        "    text_length = len(text)\n",
        "    pattern_length = len(pattern)\n",
        "\n",
        "    # Loop through the text\n",
        "    for i in range(text_length - pattern_length + 1):\n",
        "        # For the current index, check if the substring matches the pattern\n",
        "        match = True\n",
        "        for j in range(pattern_length):\n",
        "            if text[i + j] != pattern[j]:\n",
        "                match = False\n",
        "                break\n",
        "\n",
        "        # If a match is found, print the index\n",
        "        if match:\n",
        "            print(f\"Pattern found at index {i}\")\n",
        "\n",
        "# Example usage\n",
        "array = [231237813910923]\n",
        "text = \"this is a ssssssssssssimple example\"\n",
        "pattern = \"simple\"\n",
        "\n",
        "naive_substring_search(text, pattern)\n"
      ]
    },
    {
      "cell_type": "markdown",
      "source": [
        "https://www.youtube.com/watch?v=O7_w001f58c\n",
        "### Aho–Corasick Algorithm Overview for Collaboration Notebook\n",
        "\n",
        "The **Aho–Corasick algorithm** is a powerful string-searching algorithm, particularly efficient when searching for multiple patterns in a text simultaneously. It constructs a finite state machine (FSM) from a set of keywords, and then it uses the FSM to search the text in a single pass. This makes it faster than naive algorithms in the case of multiple pattern searches.\n",
        "\n",
        "#### Key Concepts:\n",
        "\n",
        "1. **Trie Construction**: The algorithm first builds a trie (prefix tree) from the set of patterns. Each node in the trie represents a character in a pattern, and paths from the root to a node represent prefixes of patterns.\n",
        "\n",
        "2. **Failure Links**: To handle mismatches, the algorithm adds failure links. These links define where to continue searching when a partial match is found but not completed.\n",
        "\n",
        "3. **Output Links**: The trie also maintains output links, which allow the algorithm to report when a match is found. If a match is found at a node, the output link helps retrieve the matched pattern(s).\n",
        "\n",
        "4. **FSM Execution**: After constructing the trie with failure and output links, the text is processed in a single pass. As the algorithm processes each character of the text, it navigates the trie by following appropriate transitions. If a character doesn't match, the failure links are followed to find the next best match.\n",
        "\n",
        "#### Algorithm Steps:\n",
        "\n",
        "1. **Build the Trie**:\n",
        "   - Insert all patterns into a trie.\n",
        "   - Each pattern corresponds to a path in the trie.\n",
        "\n",
        "2. **Add Failure Links**:\n",
        "   - For each node in the trie, a failure link is added to point to the node representing the longest suffix of the current node's string, which is also a prefix in the trie.\n",
        "\n",
        "3. **Search Text Using FSM**:\n",
        "   - Traverse the text character by character, following the trie.\n",
        "   - If a mismatch occurs, use the failure links to backtrack.\n",
        "   - Report matches using output links when reaching terminal nodes.\n",
        "\n",
        "#### Time Complexity:\n",
        "- **Trie construction**: O(m), where `m` is the total number of characters in all patterns.\n",
        "- **Search**: O(n + z), where `n` is the length of the text, and `z` is the number of pattern occurrences found."
      ],
      "metadata": {
        "id": "QbpazBYIDl2O"
      }
    },
    {
      "cell_type": "markdown",
      "source": [
        "#### Code Example (Python):\n",
        "\n"
      ],
      "metadata": {
        "id": "gGyjswRaDl9s"
      }
    },
    {
      "cell_type": "code",
      "source": [
        "from collections import deque, defaultdict\n",
        "\n",
        "class AhoCorasick:\n",
        "    def __init__(self, keywords):\n",
        "        self.trie = {}\n",
        "        self.output = defaultdict(list)\n",
        "        self.fail = {}\n",
        "        self.build_trie(keywords)\n",
        "        self.build_failure_links()\n",
        "\n",
        "    def build_trie(self, keywords):\n",
        "        self.trie = {}\n",
        "        node = 0\n",
        "        self.trie[node] = {}\n",
        "        for keyword in keywords:\n",
        "            current_node = 0\n",
        "            for char in keyword:\n",
        "                if char not in self.trie[current_node]:\n",
        "                    node += 1\n",
        "                    self.trie[current_node][char] = node\n",
        "                    self.trie[node] = {}\n",
        "                current_node = self.trie[current_node][char]\n",
        "            self.output[current_node].append(keyword)\n",
        "\n",
        "    def build_failure_links(self):\n",
        "        queue = deque()\n",
        "        for char in self.trie[0]:\n",
        "            queue.append(self.trie[0][char])\n",
        "            self.fail[self.trie[0][char]] = 0\n",
        "\n",
        "        while queue:\n",
        "            current_node = queue.popleft()\n",
        "            for char in self.trie[current_node]:\n",
        "                child_node = self.trie[current_node][char]\n",
        "                queue.append(child_node)\n",
        "\n",
        "                fail_node = self.fail[current_node]\n",
        "                while fail_node != 0 and char not in self.trie[fail_node]:\n",
        "                    fail_node = self.fail[fail_node]\n",
        "\n",
        "                self.fail[child_node] = self.trie[fail_node].get(char, 0)\n",
        "                self.output[child_node].extend(self.output[self.fail[child_node]])\n",
        "\n",
        "    def search(self, text):\n",
        "        current_node = 0\n",
        "        matches = []\n",
        "        for i, char in enumerate(text):\n",
        "            while current_node != 0 and char not in self.trie[current_node]:\n",
        "                current_node = self.fail[current_node]\n",
        "            current_node = self.trie[current_node].get(char, 0)\n",
        "            if self.output[current_node]:\n",
        "                for pattern in self.output[current_node]:\n",
        "                    matches.append((i - len(pattern) + 1, pattern))\n",
        "        return matches\n",
        "\n",
        "# Example usage:\n",
        "patterns = [\"he\", \"she\", \"his\", \"hers\"]\n",
        "text = \"ahishers\"\n",
        "ac = AhoCorasick(patterns)\n",
        "result = ac.search(text)\n",
        "print(result)"
      ],
      "metadata": {
        "colab": {
          "base_uri": "https://localhost:8080/"
        },
        "id": "T3B0TiznCcNp",
        "outputId": "5d6e7235-bf7e-4b64-a2b3-31b1af5c1a23"
      },
      "execution_count": null,
      "outputs": [
        {
          "output_type": "stream",
          "name": "stdout",
          "text": [
            "[(1, 'his'), (3, 'she'), (4, 'he'), (4, 'hers')]\n"
          ]
        }
      ]
    },
    {
      "cell_type": "markdown",
      "source": [
        "#### Output:\n",
        "\n",
        "```\n",
        "[(1, 'his'), (3, 'she'), (4, 'he'), (4, 'hers')]\n",
        "```\n",
        "\n",
        "This Python implementation of the Aho–Corasick algorithm builds the trie, sets up the failure links, and then searches the input text for matches of the patterns efficiently.\n",
        "\n",
        "#### Use Case:\n",
        "\n",
        "The Aho–Corasick algorithm is especially useful when searching for many patterns in a large text. It finds all occurrences of all patterns in the text simultaneously, making it ideal for applications such as keyword searching in databases, spell-checking, and DNA sequence analysis.\n",
        "\n",
        "This description and code should be ideal for a collaborative notebook setup."
      ],
      "metadata": {
        "id": "gnfVJIpbDbsz"
      }
    },
    {
      "cell_type": "markdown",
      "source": [
        "https://www.youtube.com/watch?v=EL4ZbRF587g\n",
        "### Knuth–Morris–Pratt (KMP) Algorithm\n",
        "\n",
        "This is a well-structured description and implementation for the **Knuth–Morris–Pratt (KMP) algorithm**. The KMP algorithm efficiently searches for a pattern in a text by preprocessing the pattern to build the **Longest Prefix Suffix (LPS)** array. The algorithm avoids unnecessary comparisons by leveraging this LPS array.\n",
        "\n",
        "#### Key Concepts\n",
        "\n",
        "1. **LPS Array**: The core of the KMP algorithm is the LPS (Longest Prefix Suffix) array, which stores the length of the longest prefix which is also a suffix for all prefixes of the pattern. This helps in skipping unnecessary comparisons.\n",
        "\n",
        "2. **Efficient Search**: Once the LPS array is constructed, the pattern is compared against the text. Whenever a mismatch occurs, the LPS array is used to decide how much to skip without rechecking characters.\n",
        "\n",
        "3. **Time Complexity**:\n",
        "   - **Preprocessing (LPS)**: O(m), where `m` is the length of the pattern.\n",
        "   - **Search**: O(n), where `n` is the length of the text.\n",
        "\n",
        "#### Steps:\n",
        "\n",
        "1. **Build the LPS Array**: Preprocess the pattern to construct the LPS array.\n",
        "2. **Search**: Use the LPS array to efficiently search the pattern in the text.\n",
        "\n",
        "#### Python Code Implementation:"
      ],
      "metadata": {
        "id": "k0mdgXPgEuJW"
      }
    },
    {
      "cell_type": "code",
      "source": [
        "# 1. Function to compute the Longest Prefix Suffix (LPS) array\n",
        "def compute_lps(pattern):\n",
        "    \"\"\"\n",
        "    Preprocess the pattern to create the LPS array that holds the longest\n",
        "    prefix suffix values for the pattern.\n",
        "    \"\"\"\n",
        "    m = len(pattern)\n",
        "    lps = [0] * m  # Initialize the LPS array with zeros\n",
        "    length = 0  # Length of the previous longest prefix suffix\n",
        "    i = 1  # Start from the second character\n",
        "\n",
        "    while i < m:\n",
        "        if pattern[i] == pattern[length]:\n",
        "            length += 1\n",
        "            lps[i] = length\n",
        "            i += 1\n",
        "        else:\n",
        "            if length != 0:\n",
        "                length = lps[length - 1]\n",
        "            else:\n",
        "                lps[i] = 0\n",
        "                i += 1\n",
        "    return lps\n",
        "\n",
        "# 2. Knuth–Morris–Pratt (KMP) Search Algorithm\n",
        "def kmp_search(text, pattern):\n",
        "    \"\"\"\n",
        "    The KMP search algorithm that uses the LPS array to find occurrences\n",
        "    of the pattern in the text.\n",
        "    \"\"\"\n",
        "    n = len(text)\n",
        "    m = len(pattern)\n",
        "    lps = compute_lps(pattern)  # Preprocess the pattern\n",
        "    i = 0  # Index for text\n",
        "    j = 0  # Index for pattern\n",
        "    result = []  # To store the indices of pattern matches\n",
        "\n",
        "    while i < n:\n",
        "        if text[i] == pattern[j]:\n",
        "            i += 1\n",
        "            j += 1\n",
        "\n",
        "        if j == m:\n",
        "            result.append(i - j)\n",
        "            j = lps[j - 1]\n",
        "        elif i < n and text[i] != pattern[j]:\n",
        "            if j != 0:\n",
        "                j = lps[j - 1]\n",
        "            else:\n",
        "                i += 1\n",
        "    return result\n"
      ],
      "metadata": {
        "id": "frBv8SaHCcXE"
      },
      "execution_count": null,
      "outputs": []
    },
    {
      "cell_type": "markdown",
      "source": [
        "### Example Usage:\n",
        "\n",
        "Let's see how the KMP algorithm can be used to search for a pattern in a text:\n",
        "\n",
        "```python\n",
        "# Example text and pattern\n",
        "text = \"ababcabcabababd\"\n",
        "pattern = \"ababd\"\n",
        "\n",
        "# Running the KMP search\n",
        "matches = kmp_search(text, pattern)\n",
        "\n",
        "# Display the result\n",
        "print(f\"Pattern found at indices: {matches}\")\n",
        "```\n",
        "\n",
        "#### Output:\n",
        "```\n",
        "Pattern found at indices: [10]\n",
        "```\n",
        "\n",
        "In this case, the pattern \"ababd\" is found at index 10 in the text.\n",
        "\n",
        "### Visualization of the LPS Array (Optional):\n",
        "\n",
        "To better understand the role of the LPS array, let's visualize it using a simple chart.\n",
        "\n",
        "```python\n",
        "import matplotlib.pyplot as plt\n",
        "\n",
        "def visualize_lps(pattern):\n",
        "    lps = compute_lps(pattern)\n",
        "    plt.bar(range(len(lps)), lps, tick_label=list(pattern))\n",
        "    plt.xlabel('Pattern Characters')\n",
        "    plt.ylabel('LPS Values')\n",
        "    plt.title(f'LPS Array for Pattern: {pattern}')\n",
        "    plt.show()\n",
        "\n",
        "# Visualize the LPS array for the given pattern\n",
        "visualize_lps(pattern)\n",
        "```\n",
        "\n",
        "This will create a bar chart representing the LPS array for the pattern, giving a clear visualization of how the longest prefix that is also a suffix evolves for each prefix of the pattern.\n",
        "\n",
        "### Conclusion:\n",
        "\n",
        "The **Knuth–Morris–Pratt (KMP) algorithm** is an efficient string-searching algorithm that improves over naive string-matching approaches by preprocessing the pattern using the **LPS array**. This preprocessing helps to skip unnecessary character comparisons, making the algorithm operate in **O(n + m)** time complexity."
      ],
      "metadata": {
        "id": "llxHUmhPF-pT"
      }
    },
    {
      "cell_type": "markdown",
      "source": [
        "## Testing"
      ],
      "metadata": {
        "id": "gUmNMpzgH5ky"
      }
    },
    {
      "cell_type": "code",
      "source": [
        "import time\n",
        "import random\n",
        "import string\n",
        "import matplotlib.pyplot as plt\n",
        "\n",
        "# 1. Function to generate random text and patterns\n",
        "def generate_random_string(length):\n",
        "    return ''.join(random.choice(string.ascii_lowercase) for _ in range(length))\n",
        "\n",
        "# 2. Function to test performance of different algorithms\n",
        "def test_performance(substring_search_function, text_lengths, pattern_length, num_trials=5):\n",
        "    times = []\n",
        "\n",
        "    # Run the test for each text length\n",
        "    for length in text_lengths:\n",
        "        total_naive_time = 0\n",
        "        total_kmp_time = 0\n",
        "        for _ in range(num_trials):\n",
        "            text = generate_random_string(length)\n",
        "            pattern = generate_random_string(pattern_length)\n",
        "\n",
        "            # Measure time\n",
        "            start_time = time.time()\n",
        "            substring_search_function(text, pattern)\n",
        "            total_naive_time += time.time() - start_time\n",
        "\n",
        "        # Average time over all trials\n",
        "        times.append(total_naive_time / num_trials)\n",
        "\n",
        "    return times\n",
        "\n",
        "# 3. Visualization of the performance results\n",
        "def plot_performance(text_lengths, times_several):\n",
        "    for label, times in times_several.items():\n",
        "      plt.plot(text_lengths, times, label=label, marker='o')\n",
        "    plt.xlabel('Text Length')\n",
        "    plt.ylabel('Average Time (seconds)')\n",
        "    plt.title('Performance Comparison of Substring Search Algorithms')\n",
        "    plt.legend()\n",
        "    plt.grid(True)\n",
        "    plt.show()"
      ],
      "metadata": {
        "id": "MeLwHzuKH34B"
      },
      "execution_count": null,
      "outputs": []
    },
    {
      "cell_type": "code",
      "source": [
        "# 4. Running the performance test\n",
        "text_lengths = [100, 1000, 5000, 10000, 20000, 50000]  # Varying text lengths\n",
        "pattern_length = 10  # Fixed pattern length for testing\n",
        "num_trials = 3  # Number of trials for averaging\n",
        "\n",
        "\n",
        "substring_search_function = lambda text, pattern: naive_substring_search(text, pattern)\n",
        "\n",
        "# substring_search_function = lambda text, pattern:  AhoCorasick([pattern]).search(text)\n",
        "\n",
        "# substring_search_function = lambda text, pattern: kmp_search(text, pattern)\n",
        "\n",
        "times = test_performance(substring_search_function, text_lengths, pattern_length, num_trials)\n",
        "\n",
        "# Plot the results\n",
        "plot_performance(text_lengths, {\"Naive-Search1\":times})"
      ],
      "metadata": {
        "colab": {
          "base_uri": "https://localhost:8080/",
          "height": 472
        },
        "id": "LLe-O82XIwpc",
        "outputId": "5df8d18f-d62a-4da4-e2c2-649420cc47fa"
      },
      "execution_count": null,
      "outputs": [
        {
          "output_type": "display_data",
          "data": {
            "text/plain": [
              "<Figure size 640x480 with 1 Axes>"
            ],
            "image/png": "[encoded data removed]"
          },
          "metadata": {}
        }
      ]
    },
    {
      "cell_type": "markdown",
      "source": [
        "# 1. Boyer–Moore string-search algorithm"
      ],
      "metadata": {
        "id": "PPw9YMXKBQpi"
      }
    },
    {
      "cell_type": "markdown",
      "source": [
        "# 2. Testing of all algos (+ improve testing code)\n",
        "## 2.1 Prove complexity"
      ],
      "metadata": {
        "id": "wteURaTiBWvC"
      }
    },
    {
      "cell_type": "code",
      "source": [],
      "metadata": {
        "id": "MH_QnxMgBaWq"
      },
      "execution_count": null,
      "outputs": []
    },
    {
      "cell_type": "code",
      "source": [],
      "metadata": {
        "id": "vylo9SQpBadT"
      },
      "execution_count": null,
      "outputs": []
    }
  ]
}